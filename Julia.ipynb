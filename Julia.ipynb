{
  "cells": [
    {
      "cell_type": "markdown",
      "metadata": {
        "id": "view-in-github",
        "colab_type": "text"
      },
      "source": [
        "<a href=\"https://colab.research.google.com/github/CEASLIBRARY/Data_Analysis_with_Python/blob/master/Julia.ipynb\" target=\"_parent\"><img src=\"https://colab.research.google.com/assets/colab-badge.svg\" alt=\"Open In Colab\"/></a>"
      ]
    },
    {
      "cell_type": "markdown",
      "metadata": {
        "id": "xEt6HbN0b7q8"
      },
      "source": [
        "# **Workshop : Introduction to** <img src=\"https://github.com/JuliaLang/julia-logo-graphics/raw/master/images/julia-logo-color.png\" height=\"50\" /> \n",
        "# *Objectives*\n",
        "* Introduction to Julia \n",
        "  * Basics of Julia :  a brief backgound.\n",
        "  * Setting up Julia IDE or REPL Environment.\n",
        "* Hands on with Julia\n",
        "   * Variables and Data Types.\n",
        "   * Functions.\n",
        "   * Data Structures.\n",
        "   * Control Flow.\n",
        "\n",
        "# *Future Topics*\n",
        "\n",
        "Varibale Scope, Modules, Packages, Plotting, Parallel computing, Code Optimization and Interoperability.\n",
        "   \n",
        "\n",
        "\n",
        "\n",
        "\n",
        "\n"
      ]
    },
    {
      "cell_type": "markdown",
      "metadata": {
        "id": "mopW6FKfHG7h"
      },
      "source": [
        "\n",
        "# **Introduction to Julia**  \n",
        "  Julia has evolved quickly since its inception in 2012.\n",
        "  * Julia user base has grown significantly with high profile users like NASA,  BlackRock, Aviva and INPE.\n",
        "  * Julia is the only programming language to win _James H. Wilkinson Prize for Numerical Software_. \n",
        "  * Julia is general purpose programming language with wide range of applications, including _data science, complex linear algebra, data mining, and machine learning_. \n",
        "\n",
        "\n",
        "# **Julia _vs._ C++/C _vs._ Python**\n",
        "\n",
        " Julia feels like python but runs like C++/C. Infact julia gives you an option to write your code with much flexibility. You can code like python or to boost profermance you type everything statistically like C++.\n",
        " \n",
        "# **Ways to run Julia**\n",
        "\n",
        "Three ways to run Julia code: \n",
        "  * the first one is through the Julia REPL,\n",
        "  * through the IDE: _Juno , VSCode_, and\n",
        "  * Cloud Platforms: _Colab, Kaggle, CoCalc, Azure etc_.\n",
        "\n",
        "# **Google Colabs Instructions**\n",
        "\n",
        "* Execute the following cell (click on it and press Ctrl+Enter) to install Julia, IJulia and other packages (if needed, update JULIA_VERSION and the other parameters). This takes a couple of minutes.\n",
        "*Reload this page (press Ctrl+R, or ⌘+R, or the F5 key) and continue to the next section.\n",
        "\n",
        "*Notes:*\n",
        "\n",
        "* If your Colab Runtime gets reset (e.g., due to inactivity), repeat steps 2, 3 and 4.\n",
        "* After installation, if you want to change the Julia version or activate/deactivate the GPU, you will need to reset the Runtime: Runtime > Factory reset runtime and repeat steps 3 and 4.\n"
      ]
    },
    {
      "cell_type": "code",
      "execution_count": null,
      "metadata": {
        "id": "OMnAG0sYt8IP",
        "outputId": "5ded2a17-9e77-4147-b40c-ae671eb014b0"
      },
      "outputs": [
        {
          "name": "stderr",
          "output_type": "stream",
          "text": [
            "UsageError: Cell magic `%%shell` not found.\n"
          ]
        }
      ],
      "source": [
        "%%shell\n",
        "set -e\n",
        "\n",
        "#---------------------------------------------------#\n",
        "JULIA_VERSION=\"1.7.1\" # any version ≥ 0.7.0\n",
        "JULIA_PACKAGES=\"IJulia BenchmarkTools Plots\"\n",
        "JULIA_PACKAGES_IF_GPU=\"CUDA\" # or CuArrays for older Julia versions\n",
        "JULIA_NUM_THREADS=2\n",
        "#---------------------------------------------------#\n",
        "\n",
        "if [ -n \"$COLAB_GPU\" ] && [ -z `which julia` ]; then\n",
        "  # Install Julia\n",
        "  JULIA_VER=`cut -d '.' -f -2 <<< \"$JULIA_VERSION\"`\n",
        "  echo \"Installing Julia $JULIA_VERSION on the current Colab Runtime...\"\n",
        "  BASE_URL=\"https://julialang-s3.julialang.org/bin/linux/x64\"\n",
        "  URL=\"$BASE_URL/$JULIA_VER/julia-$JULIA_VERSION-linux-x86_64.tar.gz\"\n",
        "  wget -nv $URL -O /tmp/julia.tar.gz # -nv means \"not verbose\"\n",
        "  tar -x -f /tmp/julia.tar.gz -C /usr/local --strip-components 1\n",
        "  rm /tmp/julia.tar.gz\n",
        "\n",
        "  # Install Packages\n",
        "  if [ \"$COLAB_GPU\" = \"1\" ]; then\n",
        "      JULIA_PACKAGES=\"$JULIA_PACKAGES $JULIA_PACKAGES_IF_GPU\"\n",
        "  fi\n",
        "  for PKG in `echo $JULIA_PACKAGES`; do\n",
        "    echo \"Installing Julia package $PKG...\"\n",
        "    julia -e 'using Pkg; pkg\"add '$PKG'; precompile;\"' &> /dev/null\n",
        "  done\n",
        "\n",
        "  # Install kernel and rename it to \"julia\"\n",
        "  echo \"Installing IJulia kernel...\"\n",
        "  julia -e 'using IJulia; IJulia.installkernel(\"julia\", env=Dict(\n",
        "      \"JULIA_NUM_THREADS\"=>\"'\"$JULIA_NUM_THREADS\"'\"))'\n",
        "  KERNEL_DIR=`julia -e \"using IJulia; print(IJulia.kerneldir())\"`\n",
        "  KERNEL_NAME=`ls -d \"$KERNEL_DIR\"/julia*`\n",
        "  mv -f $KERNEL_NAME \"$KERNEL_DIR\"/julia  \n",
        "\n",
        "  echo ''\n",
        "  echo \"Successfully installed `julia -v`!\"\n",
        "  echo \"Please reload this page (press Ctrl+R, ⌘+R, or the F5 key) then\"\n",
        "  echo \"jump to the 'Checking the Installation' section.\"\n",
        "fi"
      ]
    },
    {
      "cell_type": "markdown",
      "metadata": {
        "id": "RzsaObe3lq-a"
      },
      "source": [
        "# REPL allows you to execute code line by line\n",
        "\n",
        "**Basic arithmetic operations**\n",
        "* _Number Addition_\n"
      ]
    },
    {
      "cell_type": "code",
      "execution_count": null,
      "metadata": {
        "id": "_gC1mZnylq-d",
        "outputId": "ba914ca2-f00f-48b0-897a-5f6285550697"
      },
      "outputs": [
        {
          "data": {
            "text/plain": [
              "7"
            ]
          },
          "execution_count": 218,
          "metadata": {},
          "output_type": "execute_result"
        }
      ],
      "source": [
        "3+4"
      ]
    },
    {
      "cell_type": "markdown",
      "metadata": {
        "id": "WyklnSlslq-e"
      },
      "source": [
        "* subtraction, addition, multiplication, power, square-root, log etc."
      ]
    },
    {
      "cell_type": "code",
      "execution_count": null,
      "metadata": {
        "id": "nqrBb6oFlq-f",
        "outputId": "537c8b4a-f7ce-4e30-f8c8-fa9b37ae7964"
      },
      "outputs": [
        {
          "name": "stdout",
          "output_type": "stream",
          "text": [
            "-2\n",
            "92\n",
            "16\n",
            "9.591663046625438\n",
            "5.830951894845301\n",
            "3.1354942159291497\n"
          ]
        }
      ],
      "source": [
        "println(4-6)\n",
        "println(4*23)\n",
        "println(4^2)\n",
        "println(√92)\n",
        "println(sqrt(34))\n",
        "println(log(23))\n"
      ]
    },
    {
      "cell_type": "markdown",
      "metadata": {
        "id": "KqoNnCo6lq-h"
      },
      "source": [
        "**Boolean/Logical operators** \n",
        "*  _&, xor, ||, nand_"
      ]
    },
    {
      "cell_type": "code",
      "execution_count": null,
      "metadata": {
        "id": "GD3LpE1Qlq-i",
        "outputId": "3fa772ae-9dd9-4632-9961-b63a1447b4dd"
      },
      "outputs": [
        {
          "name": "stdout",
          "output_type": "stream",
          "text": [
            "true\n",
            "false\n",
            "true\n",
            "true\n"
          ]
        }
      ],
      "source": [
        "println(true || false)\n",
        "println(true & false)\n",
        "println(xor(true, false))\n",
        "println(nand(true,false))"
      ]
    },
    {
      "cell_type": "markdown",
      "metadata": {
        "id": "evYh7HYllq-j"
      },
      "source": [
        "# Precision\n",
        "* _Float + Int Addition_\n",
        "<div>\n",
        "    <img src=\"enlightenment-symbol.png\"  width=\"50\"  />\n",
        " </div>    \n",
        "\n",
        "* _Resultant data type is same as highest precision operand_\n",
        " "
      ]
    },
    {
      "cell_type": "code",
      "execution_count": null,
      "metadata": {
        "id": "bhIdmabblq-k",
        "outputId": "b1deebb5-a726-459d-db3d-0f75e9f4d3f1"
      },
      "outputs": [
        {
          "data": {
            "text/plain": [
              "7.0"
            ]
          },
          "execution_count": 2,
          "metadata": {},
          "output_type": "execute_result"
        }
      ],
      "source": [
        "2 + 5.0"
      ]
    },
    {
      "cell_type": "markdown",
      "metadata": {
        "id": "IMych6jplq-m"
      },
      "source": [
        "**Basic Complex Numbers operations**\n",
        "* _Complex Number Addition_"
      ]
    },
    {
      "cell_type": "code",
      "execution_count": null,
      "metadata": {
        "id": "MvTxCaTblq-q",
        "outputId": "1e179a84-e7dd-48f2-f5dd-e5bf7197be77"
      },
      "outputs": [
        {
          "data": {
            "text/plain": [
              "3 + 4im"
            ]
          },
          "execution_count": 3,
          "metadata": {},
          "output_type": "execute_result"
        }
      ],
      "source": [
        "3+4im"
      ]
    },
    {
      "cell_type": "code",
      "execution_count": null,
      "metadata": {
        "id": "B-Xlv0gOlq-s",
        "outputId": "c49af22b-9306-41da-b16e-7fdbb9509d0d"
      },
      "outputs": [
        {
          "data": {
            "text/plain": [
              "-42 + 25im"
            ]
          },
          "execution_count": 4,
          "metadata": {},
          "output_type": "execute_result"
        }
      ],
      "source": [
        "(3+2im)-(45-23im)"
      ]
    },
    {
      "cell_type": "markdown",
      "metadata": {
        "id": "2pmgSLBHlq-v"
      },
      "source": [
        "**Basic Fractional Numbers operations**\n",
        "* _Fraction Representioan_"
      ]
    },
    {
      "cell_type": "code",
      "execution_count": null,
      "metadata": {
        "id": "ALozDcfQlq-x",
        "outputId": "2f5dc1fe-d5ec-43bc-8850-37db9a0057c5"
      },
      "outputs": [
        {
          "data": {
            "text/plain": [
              "3//5"
            ]
          },
          "execution_count": 6,
          "metadata": {},
          "output_type": "execute_result"
        }
      ],
      "source": [
        "3//5"
      ]
    },
    {
      "cell_type": "code",
      "execution_count": null,
      "metadata": {
        "id": "snoxcl2ulq-1",
        "outputId": "d531ee0e-6c64-4dd4-e290-908356946bb1"
      },
      "outputs": [
        {
          "data": {
            "text/plain": [
              "51//10"
            ]
          },
          "execution_count": 7,
          "metadata": {},
          "output_type": "execute_result"
        }
      ],
      "source": [
        "3//5 + 9//2"
      ]
    },
    {
      "cell_type": "code",
      "execution_count": null,
      "metadata": {
        "id": "SsKxrC3ylq-9",
        "outputId": "73ff608a-888f-4428-9f4a-4c622f82ce3f"
      },
      "outputs": [
        {
          "data": {
            "text/plain": [
              "223//21"
            ]
          },
          "execution_count": 8,
          "metadata": {},
          "output_type": "execute_result"
        }
      ],
      "source": [
        "34//21 + 9"
      ]
    },
    {
      "cell_type": "markdown",
      "metadata": {
        "id": "MwVVXa57lq_A"
      },
      "source": [
        "**How to know the type of variable**\n",
        "<div>\n",
        "   <img src=\"enlightenment-symbol.png\"  width=\"50\"  />\n",
        " </div>  \n",
        " \n",
        " _typeof(variable)_ \n",
        "\n",
        "**will let you know the type inferred by Julia**"
      ]
    },
    {
      "cell_type": "code",
      "execution_count": null,
      "metadata": {
        "id": "dKxCwASklq_B",
        "outputId": "84af48b4-9993-461d-bf77-d3779a4bfb30"
      },
      "outputs": [
        {
          "data": {
            "text/plain": [
              "Int64"
            ]
          },
          "execution_count": 9,
          "metadata": {},
          "output_type": "execute_result"
        }
      ],
      "source": [
        "typeof(1)"
      ]
    },
    {
      "cell_type": "code",
      "execution_count": null,
      "metadata": {
        "id": "InHsqoFAlq_E",
        "outputId": "c5898a0b-e72a-4695-d686-1d6397353155"
      },
      "outputs": [
        {
          "data": {
            "text/plain": [
              "Rational{Int64}"
            ]
          },
          "execution_count": 12,
          "metadata": {},
          "output_type": "execute_result"
        }
      ],
      "source": [
        "typeof(34//20 + 9)"
      ]
    },
    {
      "cell_type": "code",
      "execution_count": null,
      "metadata": {
        "id": "hBNDxIFLlq_G",
        "outputId": "840cca56-9ff6-4ff0-c862-a95fedd05089"
      },
      "outputs": [
        {
          "data": {
            "text/plain": [
              "Complex{Int64}"
            ]
          },
          "execution_count": 13,
          "metadata": {},
          "output_type": "execute_result"
        }
      ],
      "source": [
        "typeof(4+7im)"
      ]
    },
    {
      "cell_type": "markdown",
      "metadata": {
        "id": "S8PHGPQ8vVXm"
      },
      "source": [
        "# **Variables and Types**"
      ]
    },
    {
      "cell_type": "markdown",
      "metadata": {
        "id": "VGfHpAZ_lq_N"
      },
      "source": [
        "* Julia let you declare a vaiable without explietly mantion the datatype.\n",
        "* Julia infered its type based on the value assigned to it.\n",
        "<div>\n",
        "     <img src=\"enlightenment-symbol.png\"  width=\"50\"  />  \n",
        "</div>\n",
        "<div>\n",
        "   <img src=\"Datatypes.png\"  width=\"500\"  /> <img src=\"enlightenment-symbol.png\"  width=\"50\"  />  \n",
        " </div>  \n",
        "\n",
        "**From performance point of view, you should not change the datatype after its intialization**"
      ]
    },
    {
      "cell_type": "markdown",
      "metadata": {
        "id": "rFsue829lq_O"
      },
      "source": [
        "# Declaring and Initializing Variables\n",
        "* **value is a vaiable name as is assigned a vaue using = operator**\n",
        "* **Variables in Julia can be declared by just writing their name. There’s no need to define a datatype with it.**"
      ]
    },
    {
      "cell_type": "code",
      "execution_count": null,
      "metadata": {
        "id": "klAmDZrxyIMs",
        "outputId": "97abb31b-8129-4340-c3e7-a9a564514b78"
      },
      "outputs": [
        {
          "data": {
            "text/plain": [
              "5"
            ]
          },
          "execution_count": 14,
          "metadata": {},
          "output_type": "execute_result"
        }
      ],
      "source": [
        "value = 5"
      ]
    },
    {
      "cell_type": "markdown",
      "metadata": {
        "id": "mRLM3Eeilq_Q"
      },
      "source": [
        "## Rules for naming a variable in Julia\n",
        "* Variable names in Julia must start with an underscore, a letter(A-Z or a-z) or a Unicode character greater than 00A0(nbsp).\n",
        "* Variable names can also contain digits(0-9) or !, but must not begin with these.\n",
        "* Operators like (+, ^, etc.) can also be used to name a variable.\n",
        "* Variable names can also be written as words seperated by underscore, but that is not a good practice and must be avoided unless necessary.\n",
        "* LaTeX sybols as variable names; Help in succict and readable mathematic functions"
      ]
    },
    {
      "cell_type": "code",
      "execution_count": null,
      "metadata": {
        "id": "Rrwzz2uOAPXZ",
        "outputId": "610ddf4e-5cfc-4f87-d332-d702ccc37968"
      },
      "outputs": [
        {
          "data": {
            "text/plain": [
              "23"
            ]
          },
          "execution_count": 16,
          "metadata": {},
          "output_type": "execute_result"
        }
      ],
      "source": [
        "θ = 5\n",
        "Θ = 9\n",
        "ϕ = 9\n",
        "Φ = 23\n",
        "ϵ = 9\n",
        "ζ = 23\n",
        "κ = 23\n",
        "δ = 23\n",
        "Δ  = 23\n"
      ]
    },
    {
      "cell_type": "markdown",
      "metadata": {
        "id": "UK2heEpdlq_V"
      },
      "source": [
        "# Statically Typed *Variable* Names"
      ]
    },
    {
      "cell_type": "code",
      "execution_count": null,
      "metadata": {
        "colab": {
          "base_uri": "https://localhost:8080/",
          "height": 171
        },
        "id": "gNWIQmb7ARce",
        "outputId": "37ed7026-da94-4b72-d15f-72f41a4cefb0"
      },
      "outputs": [
        {
          "data": {
            "text/plain": [
              "5"
            ]
          },
          "execution_count": 28,
          "metadata": {},
          "output_type": "execute_result"
        }
      ],
      "source": [
        "x = 5::Int64"
      ]
    },
    {
      "cell_type": "code",
      "execution_count": null,
      "metadata": {
        "id": "4Fp7oQ7Tlq_b",
        "outputId": "970f41d4-9d52-4b43-b8dc-16fd4aabce2c"
      },
      "outputs": [
        {
          "name": "stdout",
          "output_type": "stream",
          "text": [
            "-9223372036854775808\n",
            "9223372036854775807"
          ]
        }
      ],
      "source": [
        "print(typemin(Int64),\"\\n\")\n",
        "print(typemax(Int64))"
      ]
    },
    {
      "cell_type": "code",
      "execution_count": null,
      "metadata": {
        "id": "2kdu7dxKlq_c",
        "outputId": "003ba0f8-456b-4427-9b3e-bd17b7ea596a"
      },
      "outputs": [
        {
          "data": {
            "text/plain": [
              "String"
            ]
          },
          "execution_count": 41,
          "metadata": {},
          "output_type": "execute_result"
        }
      ],
      "source": [
        "x = \"345\"::String\n",
        "typeof(x)"
      ]
    },
    {
      "cell_type": "markdown",
      "metadata": {
        "tags": [],
        "id": "pSxBvLTylq_d"
      },
      "source": [
        "## Type Conversion\n",
        "* Use _convert function (targettype,varibale)_\n",
        "* Always from low to high precision.\n",
        "* Use trunc/floor etc. to get to lower precision."
      ]
    },
    {
      "cell_type": "code",
      "execution_count": null,
      "metadata": {
        "id": "Vkerzsk8lq_d",
        "outputId": "0e02b3fd-f91a-4b6a-809e-02278def29f5"
      },
      "outputs": [
        {
          "name": "stdout",
          "output_type": "stream",
          "text": [
            "3.0\n"
          ]
        }
      ],
      "source": [
        "x = 3\n",
        "println(convert(Float64,x))"
      ]
    },
    {
      "cell_type": "markdown",
      "metadata": {
        "id": "SI1XeQc-lq_f"
      },
      "source": [
        "## String to Number Conversion in Julia\n",
        "* Parse function (T::Type, str, base=Int)"
      ]
    },
    {
      "cell_type": "code",
      "execution_count": null,
      "metadata": {
        "id": "NPWqOPR7lq_h",
        "outputId": "7aa09011-423f-4734-cf26-407a9dbbed33"
      },
      "outputs": [
        {
          "name": "stdout",
          "output_type": "stream",
          "text": [
            "10004\n",
            "23424\n",
            "144420\n"
          ]
        }
      ],
      "source": [
        "println(parse(Int64,\"23424\",base = 8))\n",
        "println(parse(Int64,\"23424\",base = 10))\n",
        "println(parse(Int64,\"23424\",base = 16))"
      ]
    },
    {
      "cell_type": "markdown",
      "metadata": {
        "id": "_AOMwBhIlq_k"
      },
      "source": [
        "# **String Initialization and Operators**"
      ]
    },
    {
      "cell_type": "code",
      "execution_count": null,
      "metadata": {
        "id": "9c2C-zKWlq_p",
        "outputId": "fe615350-4fd1-437e-b670-58f484de32f0"
      },
      "outputs": [
        {
          "name": "stdout",
          "output_type": "stream",
          "text": [
            "University of Cincinnati\n",
            "sf\n",
            "abcdefgef\n"
          ]
        }
      ],
      "source": [
        "x = \"University of Cincinnati\"\n",
        "println(x)\n",
        "println(string(\"sf\"))\n",
        "println(string(\"abc\",\"def\",\"gef\"))"
      ]
    },
    {
      "cell_type": "markdown",
      "metadata": {
        "id": "OWLyB3YNlq_t"
      },
      "source": [
        "## String Indexing, Slicing and Operators\n",
        "\n",
        "* x[1]- first character, x[2] = second character. **Indexing**\n",
        "* x[2:4]- second to fourth character **Slicing**\n",
        "* x[-1]- backward slicing \n",
        "* _*_ Concatination Operation\n",
        "* ^ repetition\n",
        "* Use _begin_ and _end_ to access string from front and back respectively"
      ]
    },
    {
      "cell_type": "code",
      "execution_count": null,
      "metadata": {
        "id": "HMpEtOF3lq_v",
        "outputId": "9dc11883-867d-49e8-a7d1-c4bc1356c7b9"
      },
      "outputs": [
        {
          "name": "stdout",
          "output_type": "stream",
          "text": [
            "UC\n",
            "is\n",
            "University of Cincinnati\n",
            "at\n",
            "Cincinnati\n"
          ]
        }
      ],
      "source": [
        "println(x[1],x[15])\n",
        "println(x[3],x[7])\n",
        "println(x[begin:end])\n",
        "println(x[end-2:end-1])\n",
        "println(x[end-9:end])"
      ]
    },
    {
      "cell_type": "markdown",
      "metadata": {
        "id": "QriGo9JvCHcg"
      },
      "source": [
        "# **Comments** \n",
        "* Single Line Comment"
      ]
    },
    {
      "cell_type": "code",
      "execution_count": null,
      "metadata": {
        "id": "J3wsDDnflq_y"
      },
      "outputs": [],
      "source": [
        "#This is Single Line Comment"
      ]
    },
    {
      "cell_type": "markdown",
      "metadata": {
        "id": "wIaI-WUPlq_z"
      },
      "source": [
        "* Multiple Line Comments"
      ]
    },
    {
      "cell_type": "code",
      "execution_count": null,
      "metadata": {
        "id": "JpZ5HpQyAiXm"
      },
      "outputs": [],
      "source": [
        "#= This\n",
        "is\n",
        "mulitple Line\n",
        "Comment\n",
        "=#"
      ]
    },
    {
      "cell_type": "markdown",
      "metadata": {
        "id": "YfTcYznkApt5"
      },
      "source": [
        "# Hands-on  **Variable and Datatype**\n",
        "<div>\n",
        "     <img src=\"Handson.png\"  width=\"100\"  />  \n",
        "</div>"
      ]
    },
    {
      "cell_type": "markdown",
      "metadata": {
        "id": "LH9k7gmRAoqg"
      },
      "source": [
        "### The Rule of 72 applies to cases of compound interest. \n",
        "**Compound interest is calculated on both the initial principal and the accumulated interest of previous periods of a deposit.**\n",
        "* To calculate the time period an investment will double, divide the integer 72 by the expected rate of return. "
      ]
    },
    {
      "cell_type": "code",
      "execution_count": null,
      "metadata": {
        "id": "DJuJIQFBlq_-",
        "outputId": "240ee284-6d1b-4206-ccb5-f4300146fb0f"
      },
      "outputs": [
        {
          "data": {
            "text/plain": [
              "12.0"
            ]
          },
          "execution_count": 4,
          "metadata": {},
          "output_type": "execute_result"
        }
      ],
      "source": [
        "# You have 10,000 in you bank account\n",
        "\n",
        "#= Bank Provides you an annual interest rate of 6% =#\n",
        "time = 72/6\n",
        "# Find the time in which your fortune doubles.\n",
        "#12 - 20,000\n",
        "# When Will you become millionaire\n",
        "\n",
        "#24 - 40,000\n",
        "#36 - 80,000\n",
        "#48 - 1,60,000\n",
        "#60 - 3,20,000\n",
        "#72 - 6,40,000\n",
        "#84 - 12,80,000\n",
        "#96 - 25,60,000\n",
        "#108 - 51,20,000\n",
        "#120 - 1,0240,000\n",
        "\n",
        "# When Will you become billionaire\n",
        "\n",
        "#2^time *10000 = 12*time\n",
        "#(72/interest)*t = 2^t*principle\n",
        "\n",
        "#2^t = 1,000,000,000/10,000 = 100,000\n",
        "#t = log(100,000)\n",
        "#time = 100\n",
        "\n"
      ]
    },
    {
      "cell_type": "code",
      "execution_count": null,
      "metadata": {
        "id": "EbQAjjjflrAD",
        "outputId": "5ccd417d-0a43-4095-a34b-4bfc1f5e83c1"
      },
      "outputs": [
        {
          "data": {
            "text/plain": [
              "159.45254855459342"
            ]
          },
          "execution_count": 20,
          "metadata": {},
          "output_type": "execute_result"
        }
      ],
      "source": [
        "log(2,1000000000/10000)*12"
      ]
    },
    {
      "cell_type": "markdown",
      "metadata": {
        "id": "reuiMdtcvrBm"
      },
      "source": [
        "# **Functions**\n",
        "* #### Operators are _functions_ and written in **infix** notation\n",
        "  * Boolean/Logical. \n",
        "  ### (&,   ||,    xor,   nand)\n",
        "  * Arithmatic. \n",
        "  ### ( +,  -,  /,  *,  √,  ^,  log etc.)"
      ]
    },
    {
      "cell_type": "code",
      "execution_count": null,
      "metadata": {
        "id": "2nIJNSI6lrAF",
        "outputId": "30d5564d-50bb-4090-e612-8dfd12d0c8a8"
      },
      "outputs": [
        {
          "name": "stdout",
          "output_type": "stream",
          "text": [
            "7\n",
            "0.75\n",
            "12\n",
            "81\n"
          ]
        }
      ],
      "source": [
        "println(+(3,4))\n",
        "println(/(3,4))\n",
        "println(*(3,4))\n",
        "println(^(3,4))"
      ]
    },
    {
      "cell_type": "markdown",
      "metadata": {
        "id": "3B04_CVSlrAI"
      },
      "source": [
        "\n",
        "## Generic Functions\n",
        "  \n",
        "### **Standard Definition.**\n",
        "  "
      ]
    },
    {
      "cell_type": "code",
      "execution_count": null,
      "metadata": {
        "id": "W4rvs_tYvqRh",
        "outputId": "12f5d424-3090-44f5-f2bd-a1cedaa15195"
      },
      "outputs": [
        {
          "data": {
            "text/plain": [
              "squareroot (generic function with 1 method)"
            ]
          },
          "execution_count": 35,
          "metadata": {},
          "output_type": "execute_result"
        }
      ],
      "source": [
        "function squareroot(a)\n",
        "    return √a\n",
        "end"
      ]
    },
    {
      "cell_type": "code",
      "execution_count": null,
      "metadata": {
        "id": "DTuodY5flrAL",
        "outputId": "3a79510e-8c84-48f0-b0b4-f8a215f94f52"
      },
      "outputs": [
        {
          "data": {
            "text/plain": [
              "squareroot (generic function with 1 method)"
            ]
          },
          "execution_count": 39,
          "metadata": {},
          "output_type": "execute_result"
        }
      ],
      "source": [
        "function squareroot(a) ::Float64\n",
        "    return √a\n",
        "end"
      ]
    },
    {
      "cell_type": "markdown",
      "metadata": {
        "id": "cFftTQq-lrAO"
      },
      "source": [
        " ### **Inline Functions.**"
      ]
    },
    {
      "cell_type": "code",
      "execution_count": null,
      "metadata": {
        "id": "l1-PlMywlrAQ",
        "outputId": "a9c24012-a608-40b3-95c5-0e52c4158a88"
      },
      "outputs": [
        {
          "data": {
            "text/plain": [
              "f (generic function with 1 method)"
            ]
          },
          "execution_count": 42,
          "metadata": {},
          "output_type": "execute_result"
        }
      ],
      "source": [
        "f(x) = x^2 + x + √(x+6x^2)"
      ]
    },
    {
      "cell_type": "code",
      "execution_count": null,
      "metadata": {
        "id": "es6_bmQclrAS",
        "outputId": "f6943231-184f-4090-aa47-1204bbeb9d0a"
      },
      "outputs": [
        {
          "data": {
            "text/plain": [
              "f (generic function with 2 methods)"
            ]
          },
          "execution_count": 195,
          "metadata": {},
          "output_type": "execute_result"
        }
      ],
      "source": [
        "f(y) = [x^2 for x in y]"
      ]
    },
    {
      "cell_type": "code",
      "execution_count": null,
      "metadata": {
        "id": "CJInwD8OlrAT",
        "outputId": "b5d7b439-cc86-4e0b-a822-dfcff1dd16b0"
      },
      "outputs": [
        {
          "name": "stdout",
          "output_type": "stream",
          "text": [
            "[4, 9, 16, 25]\n"
          ]
        }
      ],
      "source": [
        "println(f([2,3,4,5]))"
      ]
    },
    {
      "cell_type": "code",
      "execution_count": null,
      "metadata": {
        "id": "XHG2azyylrAW",
        "outputId": "22f64215-b9b4-4c51-f8a3-e2ef18d34d8a"
      },
      "outputs": [
        {
          "data": {
            "text/plain": [
              "f (generic function with 2 methods)"
            ]
          },
          "execution_count": 197,
          "metadata": {},
          "output_type": "execute_result"
        }
      ],
      "source": [
        "f(y) = (x^2 for x in y)"
      ]
    },
    {
      "cell_type": "code",
      "execution_count": null,
      "metadata": {
        "id": "866nD3ZklrAX",
        "outputId": "81b0de4f-4aa0-40f8-8580-84215917ce8f"
      },
      "outputs": [
        {
          "name": "stdout",
          "output_type": "stream",
          "text": [
            "491625\n"
          ]
        }
      ],
      "source": [
        "println(f([2,3,4,5])...)"
      ]
    },
    {
      "cell_type": "code",
      "execution_count": null,
      "metadata": {
        "id": "NY46OHvalrAZ",
        "outputId": "95af3124-f595-4084-988a-46fc7162cbd5"
      },
      "outputs": [
        {
          "data": {
            "text/plain": [
              "∑ (generic function with 1 method)"
            ]
          },
          "execution_count": 43,
          "metadata": {},
          "output_type": "execute_result"
        }
      ],
      "source": [
        "∑(x,y) = x+y"
      ]
    },
    {
      "cell_type": "code",
      "execution_count": null,
      "metadata": {
        "id": "MJsw-SPilrAa",
        "outputId": "789ae8aa-e399-4556-840e-db4f44933a9d"
      },
      "outputs": [
        {
          "data": {
            "text/plain": [
              "factorial! (generic function with 1 method)"
            ]
          },
          "execution_count": 57,
          "metadata": {},
          "output_type": "execute_result"
        }
      ],
      "source": [
        "factorial!(x::Int64) = x == 1 ? one(x) : factorial!(x-1)*x"
      ]
    },
    {
      "cell_type": "code",
      "execution_count": null,
      "metadata": {
        "id": "cljjcIJNlrAd",
        "outputId": "aa4b1ec1-c117-47b6-e3bb-430eef174f20"
      },
      "outputs": [
        {
          "data": {
            "text/plain": [
              "6"
            ]
          },
          "execution_count": 59,
          "metadata": {},
          "output_type": "execute_result"
        }
      ],
      "source": [
        "factorial!(3::Int64)"
      ]
    },
    {
      "cell_type": "code",
      "execution_count": null,
      "metadata": {
        "id": "06ll2hc7lrAe",
        "outputId": "5a83e3a8-1515-4069-f621-0a37d768e4a2"
      },
      "outputs": [
        {
          "data": {
            "text/plain": [
              "fib (generic function with 1 method)"
            ]
          },
          "execution_count": 44,
          "metadata": {},
          "output_type": "execute_result"
        }
      ],
      "source": [
        "fib(n::Integer) = n ≤ 2 ? one(n) : fib(n-1) + fib(n-2)"
      ]
    },
    {
      "cell_type": "markdown",
      "metadata": {
        "id": "4kK85vcglrAg"
      },
      "source": [
        "### **Anonymous/ Lamdba Expressions.**"
      ]
    },
    {
      "cell_type": "code",
      "execution_count": null,
      "metadata": {
        "id": "VpxAWu-4lrAi",
        "outputId": "bb0be4e7-8cad-4917-83cf-3624bc99dfbf"
      },
      "outputs": [
        {
          "data": {
            "text/plain": [
              "#1 (generic function with 1 method)"
            ]
          },
          "execution_count": 60,
          "metadata": {},
          "output_type": "execute_result"
        }
      ],
      "source": [
        "x -> x^+2+3x+4"
      ]
    },
    {
      "cell_type": "code",
      "execution_count": null,
      "metadata": {
        "id": "oXcO8p18lrAj",
        "outputId": "ca3ca7b4-70f1-4b8b-889e-5d13fe3ec1d9"
      },
      "outputs": [
        {
          "data": {
            "text/plain": [
              "5-element Vector{Int64}:\n",
              "  7\n",
              " 12\n",
              " 19\n",
              " 28\n",
              " 39"
            ]
          },
          "execution_count": 62,
          "metadata": {},
          "output_type": "execute_result"
        }
      ],
      "source": [
        "map(x->x^2+2x+4,[1,2,3,4,5])"
      ]
    },
    {
      "cell_type": "code",
      "execution_count": null,
      "metadata": {
        "id": "n49lF1__lrAl",
        "outputId": "8b7b6fa7-c25f-4758-9d93-22fde0bbe611"
      },
      "outputs": [
        {
          "data": {
            "text/plain": [
              "5-element Vector{String}:\n",
              " \"111\"\n",
              " \"222\"\n",
              " \"333\"\n",
              " \"444\"\n",
              " \"555\""
            ]
          },
          "execution_count": 66,
          "metadata": {},
          "output_type": "execute_result"
        }
      ],
      "source": [
        "map(x-> x*x*x,[\"1\",\"2\",\"3\",\"4\",\"5\"])"
      ]
    },
    {
      "cell_type": "markdown",
      "metadata": {
        "tags": [],
        "id": "W-YZzdPSlrAm"
      },
      "source": [
        "# Hands-on  **Functions**\n",
        "<div>\n",
        "     <img src=\"Handson.png\"  width=\"100\"  />  \n",
        "</div>"
      ]
    },
    {
      "cell_type": "markdown",
      "metadata": {
        "id": "9Q8NWztTlrAn"
      },
      "source": [
        "## Generate Cincinnati word by merging letters[cinat]; you can replicate your substrings\n",
        "\n",
        "* x = 2*(\"cin\") + \"nat\"+i"
      ]
    },
    {
      "cell_type": "code",
      "execution_count": null,
      "metadata": {
        "id": "0WGEkULXlrAo",
        "outputId": "5e4d40f6-0bf8-4aff-d09f-df7a913f1313"
      },
      "outputs": [
        {
          "data": {
            "text/plain": [
              "\"cincinnati\""
            ]
          },
          "execution_count": 98,
          "metadata": {},
          "output_type": "execute_result"
        }
      ],
      "source": [
        "x = string(string('c','i','n')^2 , string('n','a','t','i'))"
      ]
    },
    {
      "cell_type": "code",
      "execution_count": null,
      "metadata": {
        "id": "hM9LcE1_lrAq",
        "outputId": "921f21c0-d01b-42ec-baa0-38533b03271a"
      },
      "outputs": [
        {
          "name": "stdout",
          "output_type": "stream",
          "text": [
            "cincinnati\n"
          ]
        }
      ],
      "source": [
        "x = \"cinat\"\n",
        "println(x[begin:3]^2*x[3:end]*x[2])"
      ]
    },
    {
      "cell_type": "code",
      "execution_count": null,
      "metadata": {
        "id": "Wa4DjHMBlrAv"
      },
      "outputs": [],
      "source": [
        ""
      ]
    },
    {
      "cell_type": "markdown",
      "metadata": {
        "id": "LnbKsiN-BPa5"
      },
      "source": [
        "# **Data Structures**\n",
        "\n",
        "  * Arrays and Vectors\n",
        "  * Metrices\n",
        "  * Sets and Tuples"
      ]
    },
    {
      "cell_type": "markdown",
      "metadata": {
        "id": "uK1khyKslrAz"
      },
      "source": [
        "# Creating a 1D array/vector"
      ]
    },
    {
      "cell_type": "code",
      "execution_count": null,
      "metadata": {
        "id": "UL31WKQiA1bm",
        "outputId": "591f1b12-8707-47a6-a282-d6782e1b02d0"
      },
      "outputs": [
        {
          "data": {
            "text/plain": [
              "4-element Vector{Int64}:\n",
              " 1\n",
              " 2\n",
              " 3\n",
              " 4"
            ]
          },
          "execution_count": 124,
          "metadata": {},
          "output_type": "execute_result"
        }
      ],
      "source": [
        "Array1 = [1, 2, 3, 4]"
      ]
    },
    {
      "cell_type": "code",
      "execution_count": null,
      "metadata": {
        "id": "Vrpm8bURlrA2",
        "outputId": "37656e13-7b5b-4c51-d067-1a146c673d28"
      },
      "outputs": [
        {
          "data": {
            "text/plain": [
              "4-element Vector{Int64}:\n",
              " 1\n",
              " 2\n",
              " 3\n",
              " 4"
            ]
          },
          "execution_count": 126,
          "metadata": {},
          "output_type": "execute_result"
        }
      ],
      "source": [
        "Array{Int64}([1, 2, 3,4])"
      ]
    },
    {
      "cell_type": "code",
      "execution_count": null,
      "metadata": {
        "id": "diFc-jlQlrA5",
        "outputId": "4d2e696f-91bb-486f-cae1-cd087251bdc6"
      },
      "outputs": [
        {
          "data": {
            "text/plain": [
              "4-element Vector{Int64}:\n",
              " 1\n",
              " 2\n",
              " 3\n",
              " 4"
            ]
          },
          "execution_count": 125,
          "metadata": {},
          "output_type": "execute_result"
        }
      ],
      "source": [
        "Vector{Int64}([1, 2, 3,4])"
      ]
    },
    {
      "cell_type": "code",
      "execution_count": null,
      "metadata": {
        "id": "AmNqvEnllrA6",
        "outputId": "9591cf10-42af-40cd-be4c-a6ccb1655743"
      },
      "outputs": [
        {
          "name": "stdout",
          "output_type": "stream",
          "text": [
            "[1, 2, 3, 4]\n",
            "2\n"
          ]
        }
      ],
      "source": [
        "println(Array1[begin:end])\n",
        "println(Array1[2])"
      ]
    },
    {
      "cell_type": "markdown",
      "metadata": {
        "id": "6PIHm8sNlrA8"
      },
      "source": [
        "# Creating a 2D array\n"
      ]
    },
    {
      "cell_type": "code",
      "execution_count": null,
      "metadata": {
        "id": "KTj9TejylrBC",
        "outputId": "15342b01-ec16-4f69-8ed6-2f3ad97888b7"
      },
      "outputs": [
        {
          "data": {
            "text/plain": [
              "2×3 Matrix{Int64}:\n",
              " 1  2  3\n",
              " 4  5  6"
            ]
          },
          "execution_count": 112,
          "metadata": {},
          "output_type": "execute_result"
        }
      ],
      "source": [
        "Array2 = [1 2 3; 4 5 6]"
      ]
    },
    {
      "cell_type": "code",
      "execution_count": null,
      "metadata": {
        "id": "0Ym6X8yMlrBE",
        "outputId": "44d8b0cb-af0d-4541-bd93-0b1aa287bb77"
      },
      "outputs": [
        {
          "name": "stdout",
          "output_type": "stream",
          "text": [
            "[1, 4, 2, 5, 3, 6]\n",
            "3\n",
            "3\n"
          ]
        }
      ],
      "source": [
        "println(Array2[begin:end])\n",
        "println(Array2[5])\n",
        "println(Array2[1,3])"
      ]
    },
    {
      "cell_type": "markdown",
      "metadata": {
        "id": "NsZjNLhClrBG"
      },
      "source": [
        "# Creating a 3D array\n",
        "## using 'cat' command"
      ]
    },
    {
      "cell_type": "code",
      "execution_count": null,
      "metadata": {
        "id": "0fb5QiSxlrBI",
        "outputId": "7f652340-6137-4bb9-f44b-2f788f6f7000"
      },
      "outputs": [
        {
          "data": {
            "text/plain": [
              "2×2×3 Array{Int64, 3}:\n",
              "[:, :, 1] =\n",
              " 1  2\n",
              " 3  4\n",
              "\n",
              "[:, :, 2] =\n",
              " 5  6\n",
              " 7  8\n",
              "\n",
              "[:, :, 3] =\n",
              " 2  2\n",
              " 3  4"
            ]
          },
          "execution_count": 106,
          "metadata": {},
          "output_type": "execute_result"
        }
      ],
      "source": [
        "Array3 = cat([1 2; 3 4], [5 6; 7 8], [2 2; 3 4], dims = 3)"
      ]
    },
    {
      "cell_type": "code",
      "execution_count": null,
      "metadata": {
        "id": "WXadoZj1lrBJ",
        "outputId": "863a8a69-3e5f-49d0-9c93-6b2b0b4e6e54"
      },
      "outputs": [
        {
          "name": "stdout",
          "output_type": "stream",
          "text": [
            "[1, 3, 2, 4, 5, 7, 6, 8, 2, 3, 2, 4]\n",
            "5\n",
            "2\n"
          ]
        }
      ],
      "source": [
        "println(Array3[begin:end])\n",
        "println(Array3[5])\n",
        "println(Array3[1,2,1])"
      ]
    },
    {
      "cell_type": "markdown",
      "metadata": {
        "id": "oZtvlv5flrBM"
      },
      "source": [
        "# Sets"
      ]
    },
    {
      "cell_type": "markdown",
      "metadata": {
        "id": "gBntNbtllrBN"
      },
      "source": [
        "**Creating an empty set**"
      ]
    },
    {
      "cell_type": "code",
      "execution_count": null,
      "metadata": {
        "id": "L4fz7JtnlrBR",
        "outputId": "72d85dab-0bcb-413b-a710-1be1d515a82b"
      },
      "outputs": [
        {
          "name": "stdout",
          "output_type": "stream",
          "text": [
            "Empty Set: Set([3])\n"
          ]
        }
      ],
      "source": [
        "Set1 = Set(3)\n",
        "println(\"Empty Set: \", Set1)"
      ]
    },
    {
      "cell_type": "markdown",
      "metadata": {
        "id": "AiAxDt-dlrBT"
      },
      "source": [
        "**Creating a set with Integer values**"
      ]
    },
    {
      "cell_type": "code",
      "execution_count": null,
      "metadata": {
        "id": "1-hZXAVrlrBU",
        "outputId": "81bd8449-ec50-4718-eb22-60c93c036b7c"
      },
      "outputs": [
        {
          "name": "stdout",
          "output_type": "stream",
          "text": [
            "Set([5, 4, 6, 2, 3, 1])\n"
          ]
        }
      ],
      "source": [
        "Set2 = Set([1, 2, 3, 4, 5, 2, 4, 6])\n",
        "println(Set2)"
      ]
    },
    {
      "cell_type": "markdown",
      "metadata": {
        "id": "QrR8nB1rlrBW"
      },
      "source": [
        "**Creating a set with mixed datatypes**"
      ]
    },
    {
      "cell_type": "code",
      "execution_count": null,
      "metadata": {
        "id": "qIBWoNH7lrBX",
        "outputId": "886141ab-fe99-403b-e7c8-f5c9dcaa9c06"
      },
      "outputs": [
        {
          "name": "stdout",
          "output_type": "stream",
          "text": [
            "Set(Any[2, \"Hello\", 3, 1, \"Cincy\"])\n",
            "Set(Any[5, 1, 4, 6, 2, \"Hello\", 3, \"Cincy\"])\n",
            "Set([3])\n"
          ]
        }
      ],
      "source": [
        "Set3 = Set([1, 2, 3, \"Hello\", \"Cincy\"])\n",
        "println(Set3)\n",
        "println(union(Set1,Set2,Set3))\n",
        "println(intersect(Set1,Set2,Set3))"
      ]
    },
    {
      "cell_type": "markdown",
      "metadata": {
        "id": "xM0lyjOLlrBZ"
      },
      "source": [
        "# Creating a Tuple"
      ]
    },
    {
      "cell_type": "code",
      "execution_count": null,
      "metadata": {
        "id": "9Qor7tnClrBa",
        "outputId": "dd4c5a57-a090-42b6-c49e-8477fd931985"
      },
      "outputs": [
        {
          "data": {
            "text/plain": [
              "(2, 3, 4, 5)"
            ]
          },
          "execution_count": 127,
          "metadata": {},
          "output_type": "execute_result"
        }
      ],
      "source": [
        "x = (2,3,4,5)"
      ]
    },
    {
      "cell_type": "code",
      "execution_count": null,
      "metadata": {
        "id": "Y4V52Cf7lrBc",
        "outputId": "91a1bb60-ef3a-4a7c-c3d2-9d305990d63f"
      },
      "outputs": [
        {
          "data": {
            "text/plain": [
              "f (generic function with 2 methods)"
            ]
          },
          "execution_count": 151,
          "metadata": {},
          "output_type": "execute_result"
        }
      ],
      "source": [
        "f(x,y,z,w) = x+y+z+w"
      ]
    },
    {
      "cell_type": "code",
      "execution_count": null,
      "metadata": {
        "id": "W5rEwm9YlrBd",
        "outputId": "629e125d-9a88-4eb6-a4f9-1c0d739cbd52"
      },
      "outputs": [
        {
          "name": "stdout",
          "output_type": "stream",
          "text": [
            "71\n"
          ]
        },
        {
          "data": {
            "text/plain": [
              "14"
            ]
          },
          "execution_count": 150,
          "metadata": {},
          "output_type": "execute_result"
        }
      ],
      "source": [
        "println(f((9,53,4,5)...))\n",
        "f(x...)\n"
      ]
    },
    {
      "cell_type": "markdown",
      "metadata": {
        "id": "47dNmSDtlrBh"
      },
      "source": [
        "# Hands-on  **Data Structures**\n",
        "\n",
        "<div>\n",
        "     <img src=\"Handson.png\"  width=\"100\"  />  \n",
        "</div>"
      ]
    },
    {
      "cell_type": "markdown",
      "metadata": {
        "id": "VhHbNq8PlrBi"
      },
      "source": [
        "# some problems here"
      ]
    },
    {
      "cell_type": "markdown",
      "metadata": {
        "id": "POrlb8uelrBj"
      },
      "source": [
        "# **Conditional Evaluation**"
      ]
    },
    {
      "cell_type": "code",
      "execution_count": null,
      "metadata": {
        "id": "V9RjU4RulrBl",
        "outputId": "207e979f-f722-4c91-f391-36e7ad05f6c9"
      },
      "outputs": [
        {
          "data": {
            "text/plain": [
              "\"whole number\""
            ]
          },
          "execution_count": 201,
          "metadata": {},
          "output_type": "execute_result"
        }
      ],
      "source": [
        "x = 9\n",
        "if x >= 0\n",
        "    \"whole number\"\n",
        "else\n",
        "    \"-ve Number\"\n",
        "end"
      ]
    },
    {
      "cell_type": "code",
      "execution_count": null,
      "metadata": {
        "id": "2c63EmgIlrBq",
        "outputId": "65c3a298-d3c8-410a-a58d-e6bf0ccd2cb5"
      },
      "outputs": [
        {
          "data": {
            "text/plain": [
              "\"Odd Number\""
            ]
          },
          "execution_count": 213,
          "metadata": {},
          "output_type": "execute_result"
        }
      ],
      "source": [
        "x = 9\n",
        "if mod(x,2) == 0\n",
        "    \"Even number\"\n",
        "elseif x==0\n",
        "     \"zero\"\n",
        "else\n",
        "     \"Odd Number\"\n",
        "end"
      ]
    },
    {
      "cell_type": "markdown",
      "metadata": {
        "id": "Qc0I2lvWlrBs"
      },
      "source": [
        "## **Ternary Operator**"
      ]
    },
    {
      "cell_type": "code",
      "execution_count": null,
      "metadata": {
        "id": "LiSzu8uwlrBv",
        "outputId": "0003c9cc-ac34-48f9-fcff-012bfb8720e7"
      },
      "outputs": [
        {
          "name": "stdout",
          "output_type": "stream",
          "text": [
            "45\n",
            "23\n"
          ]
        }
      ],
      "source": [
        "println(3>4 ? 23 : 45)\n",
        "println(30>14 ? 23 : 45)"
      ]
    },
    {
      "cell_type": "markdown",
      "metadata": {
        "id": "ZONJNaG9xPYv"
      },
      "source": [
        "# **Control Flow**\n",
        "\n",
        "### For Loops\n"
      ]
    },
    {
      "cell_type": "code",
      "execution_count": null,
      "metadata": {
        "id": "9LWvLOt9lrB3",
        "outputId": "df8c18c9-06c4-4929-c555-29aa033f4aa7"
      },
      "outputs": [
        {
          "name": "stdout",
          "output_type": "stream",
          "text": [
            "1 2 3 4 5 "
          ]
        }
      ],
      "source": [
        "for x in [1,2,3,4,5]\n",
        "    print(x,\" \")\n",
        "end"
      ]
    },
    {
      "cell_type": "code",
      "execution_count": null,
      "metadata": {
        "id": "1lnQVbYnlrB5",
        "outputId": "1d908781-1d9d-4184-f1f5-6dd5af208246"
      },
      "outputs": [
        {
          "name": "stdout",
          "output_type": "stream",
          "text": [
            "2 3 4 5 6 7 8 9 10 "
          ]
        }
      ],
      "source": [
        "for x in 2:10\n",
        "    print(x,\" \")\n",
        "end"
      ]
    },
    {
      "cell_type": "code",
      "execution_count": null,
      "metadata": {
        "id": "3C7QcfQGlrB8",
        "outputId": "f29ebf78-8080-484c-b179-639a0ce97f75"
      },
      "outputs": [
        {
          "name": "stdout",
          "output_type": "stream",
          "text": [
            "0.0, \n",
            "0.75, \n",
            "1.5, \n",
            "2.25, \n",
            "3.0, \n"
          ]
        }
      ],
      "source": [
        "for y in range(0, stop=3, length=5)\n",
        "    print(y,\", \\n\")\n",
        "end"
      ]
    },
    {
      "cell_type": "markdown",
      "metadata": {
        "id": "zJ9YKsWtlrB-"
      },
      "source": [
        "## Nested Statements as cartesian product"
      ]
    },
    {
      "cell_type": "code",
      "execution_count": null,
      "metadata": {
        "id": "nhZm2hZqlrCD",
        "outputId": "4ec6c0e8-2847-46c8-cd3d-463e0bb2965f"
      },
      "outputs": [
        {
          "name": "stdout",
          "output_type": "stream",
          "text": [
            "(3, 1)(3, 2)(3, 3)(3, 4)(4, 1)(4, 2)(4, 3)(4, 4)(5, 1)(5, 2)(5, 3)(5, 4)"
          ]
        }
      ],
      "source": [
        "for i = 3:5, j = 1:4\n",
        "    print((i, j))\n",
        "end"
      ]
    },
    {
      "cell_type": "markdown",
      "metadata": {
        "id": "1a1SdwmAlrCG"
      },
      "source": [
        "### While Loops\n"
      ]
    },
    {
      "cell_type": "code",
      "execution_count": null,
      "metadata": {
        "id": "3kNX0HLslrCH",
        "outputId": "7b88e275-6d61-47d9-ad52-cfd097f0c120"
      },
      "outputs": [
        {
          "name": "stdout",
          "output_type": "stream",
          "text": [
            "1\n",
            "2\n",
            "3\n",
            "4\n",
            "5\n"
          ]
        }
      ],
      "source": [
        "x = Array{Int64}([1,2,3,4,5])\n",
        "i = 1\n",
        "while i <= length(x)\n",
        "    println(x[i])\n",
        "    i = i + 1\n",
        "end"
      ]
    },
    {
      "cell_type": "markdown",
      "metadata": {
        "id": "OOirl7RVlrCJ"
      },
      "source": [
        "## Iterators for Lists"
      ]
    },
    {
      "cell_type": "code",
      "execution_count": null,
      "metadata": {
        "id": "f54nZondlrCL",
        "outputId": "0eb2f5f5-7132-441c-9060-3b6be7f1bb10"
      },
      "outputs": [
        {
          "name": "stdout",
          "output_type": "stream",
          "text": [
            "54321"
          ]
        }
      ],
      "source": [
        "for y in Iterators.reverse(x)\n",
        "    print(y)\n",
        "end"
      ]
    },
    {
      "cell_type": "markdown",
      "metadata": {
        "id": "WGPRsPhTAFBz"
      },
      "source": [
        "Excercises"
      ]
    },
    {
      "cell_type": "markdown",
      "metadata": {
        "id": "PdbfL9zZC_Os"
      },
      "source": [
        "Do some computation"
      ]
    },
    {
      "cell_type": "code",
      "execution_count": null,
      "metadata": {
        "id": "X2bMWvaaDDhN"
      },
      "outputs": [],
      "source": [
        "Tax computation"
      ]
    },
    {
      "cell_type": "markdown",
      "metadata": {
        "id": "Dgdo044QlrCU"
      },
      "source": [
        "# For more on Julia visit online resources\n",
        "* [Official Documentation at julialang.org](https://docs.julialang.org/en/v1/)\n",
        "* [UC Irvin: Julia in Depth for data Scientists](http://ucidatascienceinitiative.github.io/IntroToJulia/)\n"
      ]
    },
    {
      "cell_type": "markdown",
      "metadata": {
        "id": "eCPv-6AIExoP"
      },
      "source": [
        "# Interesting Links and News\n",
        "\n",
        "\n",
        "*   Programming Basics\n",
        "    * Intangible Side of Programming\n",
        "      * Critical Thinking : [Coding develops CT](https://thesassway.com/what-is-critical-thinking-in-computer-science/)\n",
        "      * Mathamatics : [Computational Programming](https://www.quantamagazine.org/computing-expert-says-programmers-need-more-math-20220517/)\n",
        "      * Logical Development : [How to Think Logically](https://www.geeksforgeeks.org/i-cant-use-logic-in-programming-what-should-i-do/)\n",
        "      * Art of articulating your mind : [putting thoughts into words](https://milesberry.net/2021/11/practical-programming/)\n",
        "    * Tangible Side of Programming\n",
        "      * Syntax Learning : [Grammer](https://pgrandinetti.github.io/compilers/page/what-is-a-programming-language-grammar/#:~:text=A%20Programming%20Language%20Grammar%20is,statements%20(also%20called%20sentences).)\n",
        "      * Programming Constructs : [Sentence Formation](https://cgi.csc.liv.ac.uk/~frans/OldLectures/2CS45/progCons/progCons.html)\n",
        "      * Program Flow : [Control Flow](https://en.wikipedia.org/wiki/Control_flow)\n",
        "      * Programming Features : [Writing Style](https://scoutapm.com/blog/functional-vs-procedural-vs-oop)"
      ]
    },
    {
      "cell_type": "markdown",
      "metadata": {
        "id": "x5nRI3OqFKhP"
      },
      "source": [
        "# Upcoming Julia Workshop\n",
        "* **Julia for Mathematician : Functions and Plots**\n",
        "* **Data Visualization with Julia**"
      ]
    }
  ],
  "metadata": {
    "colab": {
      "collapsed_sections": [],
      "name": "Julia.ipynb",
      "provenance": [],
      "include_colab_link": true
    },
    "kernelspec": {
      "display_name": "Julia 1.7.2",
      "language": "julia",
      "name": "julia-1.7"
    },
    "language_info": {
      "file_extension": ".jl",
      "mimetype": "application/julia",
      "name": "julia",
      "version": "1.7.2"
    }
  },
  "nbformat": 4,
  "nbformat_minor": 0
}